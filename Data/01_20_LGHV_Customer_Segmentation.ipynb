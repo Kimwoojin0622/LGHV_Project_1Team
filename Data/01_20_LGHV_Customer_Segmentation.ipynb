{
 "cells": [
  {
   "cell_type": "code",
   "execution_count": 1,
   "metadata": {},
   "outputs": [],
   "source": [
    "import numpy as np\n",
    "import pandas as pd\n",
    "import os\n",
    "import matplotlib.pyplot as plt\n",
    "%matplotlib inline\n",
    "import seaborn as sns\n",
    "import scipy.stats as stats\n",
    "import operator\n",
    "import math\n",
    "import warnings\n",
    "import openpyxl\n",
    "import random\n",
    "warnings.filterwarnings('ignore')\n",
    "from sklearn import tree\n",
    "from sklearn import preprocessing\n",
    "from sklearn.model_selection import train_test_split\n",
    "from sklearn.ensemble import RandomForestClassifier\n",
    "from sklearn.metrics import classification_report, roc_auc_score, confusion_matrix, accuracy_score\n",
    "import tensorflow as tf\n",
    "from sklearn.utils import resample\n",
    "from imblearn.over_sampling import SMOTE\n",
    "from sklearn.utils import resample\n",
    "from imblearn.under_sampling import TomekLinks\n",
    "from imblearn.under_sampling import ClusterCentroids\n",
    "from imblearn.under_sampling import CondensedNearestNeighbour\n",
    "from sklearn.preprocessing import LabelEncoder, StandardScaler, MinMaxScaler\n",
    "import pandas as pd\n",
    "\n",
    "# 한글 글꼴체 변경\n",
    "plt.rcParams['font.family'] ='Malgun Gothic'\n",
    "# df.head() 이런거 했을 때, 컬럼이 생략되지 않고, 모든 컬럼 뜨게\n",
    "pd.set_option('display.max_columns', None)\n",
    "# 지수 표기법 대신에 소수점으로 표시하는코드\n",
    "pd.options.display.float_format = '{:.5f}'.format\n",
    "# 값 길이 제한 X\n",
    "pd.set_option('display.max_colwidth', None) # 값 길이 제한 없음"
   ]
  },
  {
   "cell_type": "markdown",
   "metadata": {},
   "source": [
    "### ✅ Customer Segmentation"
   ]
  },
  {
   "cell_type": "markdown",
   "metadata": {},
   "source": [
    "모델이 예측한 해지율을 기반으로 고객을 \"양호\", \"보통\", \"위험\" 3가지 그룹으로 세분화"
   ]
  },
  {
   "cell_type": "markdown",
   "metadata": {},
   "source": [
    "🤔 어떻게 세분화?"
   ]
  },
  {
   "cell_type": "markdown",
   "metadata": {},
   "source": [
    "#### 모델이 예측한 해지율을 뽑아보자."
   ]
  },
  {
   "cell_type": "code",
   "execution_count": 2,
   "metadata": {},
   "outputs": [],
   "source": [
    "import joblib\n",
    "from sklearn.preprocessing import MinMaxScaler, RobustScaler\n",
    "from sklearn.preprocessing import LabelEncoder\n",
    "\n",
    "# 모델 불러오기\n",
    "model_path = 'file_pkl/lightgbm_model.pkl'\n",
    "loaded_model = joblib.load(model_path)\n",
    "# 스케일러 불러오기\n",
    "robust_scaler = joblib.load('file_pkl/robust_scaler.pkl')\n",
    "minmax_scaler = joblib.load('file_pkl/minmax_scaler.pkl')\n",
    "\n",
    "# 데이터 불러오기\n",
    "df_real = pd.read_csv('data/TPS_cancel_data_Final.csv')\n",
    "df = df_real\n",
    "\n",
    "df_modeling = df.drop(columns=['sha2_hash','p_mt','churn'])\n",
    "\n",
    "# 레이블 인코딩 수행\n",
    "label_encoders = {}\n",
    "for column in df_modeling.select_dtypes(include=['object']).columns:  # object 타입 컬럼만 선택\n",
    "    le = LabelEncoder()\n",
    "    df_modeling[column] = le.fit_transform(df_modeling[column])  # 레이블 인코딩 수행\n",
    "    label_encoders[column] = le  # 각 컬럼의 LabelEncoder 저장\n",
    "# ---------------------------------------------------------------------------------------------\n",
    "\n",
    "# 스케일링 수행\n",
    "robust_columns = ['TOTAL_USED_DAYS', 'CH_HH_AVG_MONTH1']\n",
    "minmax_columns = [col for col in df_modeling.columns if col not in robust_columns + ['churn']]\n",
    "# 저장된 스케일러로 스케일링 수행\n",
    "df_modeling[robust_columns] = robust_scaler.transform(df_modeling[robust_columns])  # RobustScaler 적용\n",
    "df_modeling[minmax_columns] = minmax_scaler.transform(df_modeling[minmax_columns])  # MinMaxScaler 적용\n",
    "\n",
    "probabilities = loaded_model.predict_proba(df_modeling)  # 각 클래스에 대한 확률 반환\n",
    "predictions = (probabilities[:, 1] >= 0.5).astype(int)  # 기본 Threshold = 0.5 사용, 기본으로 Threshold는 0.5로 적용됩니다.\n",
    "\n",
    "# 4. 원래 데이터에 예측 결과 추가\n",
    "df['probability_0'] = probabilities[:, 0]  # 해지하지 않을 확률\n",
    "df['probability_1'] = probabilities[:, 1]  # 해지할 확률 -> 이거 위주로 보셔야합니다\n",
    "df['prediction'] = predictions             # 예측 결과 (0: 미해지, 1: 해지)"
   ]
  },
  {
   "cell_type": "code",
   "execution_count": 3,
   "metadata": {},
   "outputs": [
    {
     "data": {
      "text/html": [
       "<div>\n",
       "<style scoped>\n",
       "    .dataframe tbody tr th:only-of-type {\n",
       "        vertical-align: middle;\n",
       "    }\n",
       "\n",
       "    .dataframe tbody tr th {\n",
       "        vertical-align: top;\n",
       "    }\n",
       "\n",
       "    .dataframe thead th {\n",
       "        text-align: right;\n",
       "    }\n",
       "</style>\n",
       "<table border=\"1\" class=\"dataframe\">\n",
       "  <thead>\n",
       "    <tr style=\"text-align: right;\">\n",
       "      <th></th>\n",
       "      <th>sha2_hash</th>\n",
       "      <th>p_mt</th>\n",
       "      <th>SCRB_PATH_NM_GRP</th>\n",
       "      <th>INHOME_RATE</th>\n",
       "      <th>TOTAL_USED_DAYS</th>\n",
       "      <th>CH_LAST_DAYS_BF_GRP</th>\n",
       "      <th>STB_RES_1M_YN</th>\n",
       "      <th>AGMT_KIND_NM</th>\n",
       "      <th>BUNDLE_YN</th>\n",
       "      <th>TV_I_CNT</th>\n",
       "      <th>AGMT_END_SEG</th>\n",
       "      <th>AGE_GRP10</th>\n",
       "      <th>VOC_STOP_CANCEL_MONTH1_YN</th>\n",
       "      <th>CH_HH_AVG_MONTH1</th>\n",
       "      <th>MONTHS_REMAINING</th>\n",
       "      <th>PROD_NM_GRP</th>\n",
       "      <th>MEDIA_NM_GRP</th>\n",
       "      <th>VOC_TOTAL_MONTH1_YN</th>\n",
       "      <th>churn</th>\n",
       "      <th>probability_0</th>\n",
       "      <th>probability_1</th>\n",
       "      <th>prediction</th>\n",
       "    </tr>\n",
       "  </thead>\n",
       "  <tbody>\n",
       "    <tr>\n",
       "      <th>0</th>\n",
       "      <td>0000113b86db7c509bbe74d609529031b03b7c033dbdfbd8b7fcecbf92bc8600</td>\n",
       "      <td>2</td>\n",
       "      <td>I/B</td>\n",
       "      <td>0.00000</td>\n",
       "      <td>733</td>\n",
       "      <td>3개월내없음</td>\n",
       "      <td>N</td>\n",
       "      <td>신규</td>\n",
       "      <td>Y</td>\n",
       "      <td>3.00000</td>\n",
       "      <td>약정만료전 12개월이상</td>\n",
       "      <td>60대</td>\n",
       "      <td>N</td>\n",
       "      <td>0.00000</td>\n",
       "      <td>13</td>\n",
       "      <td>이코노미</td>\n",
       "      <td>HD</td>\n",
       "      <td>N</td>\n",
       "      <td>N</td>\n",
       "      <td>0.37332</td>\n",
       "      <td>0.62668</td>\n",
       "      <td>1</td>\n",
       "    </tr>\n",
       "    <tr>\n",
       "      <th>1</th>\n",
       "      <td>0000113b86db7c509bbe74d609529031b03b7c033dbdfbd8b7fcecbf92bc8600</td>\n",
       "      <td>3</td>\n",
       "      <td>I/B</td>\n",
       "      <td>0.00000</td>\n",
       "      <td>764</td>\n",
       "      <td>일주일내</td>\n",
       "      <td>Y</td>\n",
       "      <td>신규</td>\n",
       "      <td>Y</td>\n",
       "      <td>3.00000</td>\n",
       "      <td>약정만료전 9~12개월</td>\n",
       "      <td>60대</td>\n",
       "      <td>N</td>\n",
       "      <td>6.72000</td>\n",
       "      <td>12</td>\n",
       "      <td>이코노미</td>\n",
       "      <td>HD</td>\n",
       "      <td>Y</td>\n",
       "      <td>N</td>\n",
       "      <td>0.39693</td>\n",
       "      <td>0.60307</td>\n",
       "      <td>1</td>\n",
       "    </tr>\n",
       "    <tr>\n",
       "      <th>2</th>\n",
       "      <td>0000113b86db7c509bbe74d609529031b03b7c033dbdfbd8b7fcecbf92bc8600</td>\n",
       "      <td>4</td>\n",
       "      <td>I/B</td>\n",
       "      <td>10.00000</td>\n",
       "      <td>794</td>\n",
       "      <td>3주일전</td>\n",
       "      <td>N</td>\n",
       "      <td>신규</td>\n",
       "      <td>Y</td>\n",
       "      <td>3.00000</td>\n",
       "      <td>약정만료전 9~12개월</td>\n",
       "      <td>60대</td>\n",
       "      <td>N</td>\n",
       "      <td>9.86000</td>\n",
       "      <td>11</td>\n",
       "      <td>이코노미</td>\n",
       "      <td>HD</td>\n",
       "      <td>N</td>\n",
       "      <td>N</td>\n",
       "      <td>0.48195</td>\n",
       "      <td>0.51805</td>\n",
       "      <td>1</td>\n",
       "    </tr>\n",
       "    <tr>\n",
       "      <th>3</th>\n",
       "      <td>0000113b86db7c509bbe74d609529031b03b7c033dbdfbd8b7fcecbf92bc8600</td>\n",
       "      <td>5</td>\n",
       "      <td>I/B</td>\n",
       "      <td>10.00000</td>\n",
       "      <td>825</td>\n",
       "      <td>4주일전</td>\n",
       "      <td>N</td>\n",
       "      <td>신규</td>\n",
       "      <td>Y</td>\n",
       "      <td>3.00000</td>\n",
       "      <td>약정만료전 9~12개월</td>\n",
       "      <td>60대</td>\n",
       "      <td>N</td>\n",
       "      <td>5.95000</td>\n",
       "      <td>10</td>\n",
       "      <td>이코노미</td>\n",
       "      <td>HD</td>\n",
       "      <td>N</td>\n",
       "      <td>N</td>\n",
       "      <td>0.53341</td>\n",
       "      <td>0.46659</td>\n",
       "      <td>0</td>\n",
       "    </tr>\n",
       "    <tr>\n",
       "      <th>4</th>\n",
       "      <td>0000113b86db7c509bbe74d609529031b03b7c033dbdfbd8b7fcecbf92bc8600</td>\n",
       "      <td>6</td>\n",
       "      <td>I/B</td>\n",
       "      <td>0.00000</td>\n",
       "      <td>855</td>\n",
       "      <td>일주일내</td>\n",
       "      <td>N</td>\n",
       "      <td>신규</td>\n",
       "      <td>Y</td>\n",
       "      <td>3.00000</td>\n",
       "      <td>약정만료전 6~9개월</td>\n",
       "      <td>60대</td>\n",
       "      <td>N</td>\n",
       "      <td>4.03000</td>\n",
       "      <td>9</td>\n",
       "      <td>이코노미</td>\n",
       "      <td>HD</td>\n",
       "      <td>N</td>\n",
       "      <td>N</td>\n",
       "      <td>0.66975</td>\n",
       "      <td>0.33025</td>\n",
       "      <td>0</td>\n",
       "    </tr>\n",
       "    <tr>\n",
       "      <th>...</th>\n",
       "      <td>...</td>\n",
       "      <td>...</td>\n",
       "      <td>...</td>\n",
       "      <td>...</td>\n",
       "      <td>...</td>\n",
       "      <td>...</td>\n",
       "      <td>...</td>\n",
       "      <td>...</td>\n",
       "      <td>...</td>\n",
       "      <td>...</td>\n",
       "      <td>...</td>\n",
       "      <td>...</td>\n",
       "      <td>...</td>\n",
       "      <td>...</td>\n",
       "      <td>...</td>\n",
       "      <td>...</td>\n",
       "      <td>...</td>\n",
       "      <td>...</td>\n",
       "      <td>...</td>\n",
       "      <td>...</td>\n",
       "      <td>...</td>\n",
       "      <td>...</td>\n",
       "    </tr>\n",
       "    <tr>\n",
       "      <th>22099079</th>\n",
       "      <td>fffffa7eda8144ce27e65690933ae8994e6962fefd24c982990467add99d61a7</td>\n",
       "      <td>8</td>\n",
       "      <td>현장경로</td>\n",
       "      <td>10.00000</td>\n",
       "      <td>2338</td>\n",
       "      <td>일주일내</td>\n",
       "      <td>N</td>\n",
       "      <td>신규</td>\n",
       "      <td>N</td>\n",
       "      <td>1.00000</td>\n",
       "      <td>약정만료후 12개월이상</td>\n",
       "      <td>50대</td>\n",
       "      <td>N</td>\n",
       "      <td>2.03000</td>\n",
       "      <td>-40</td>\n",
       "      <td>베이직</td>\n",
       "      <td>HD</td>\n",
       "      <td>N</td>\n",
       "      <td>N</td>\n",
       "      <td>0.61504</td>\n",
       "      <td>0.38496</td>\n",
       "      <td>0</td>\n",
       "    </tr>\n",
       "    <tr>\n",
       "      <th>22099080</th>\n",
       "      <td>fffffa7eda8144ce27e65690933ae8994e6962fefd24c982990467add99d61a7</td>\n",
       "      <td>9</td>\n",
       "      <td>현장경로</td>\n",
       "      <td>10.00000</td>\n",
       "      <td>2368</td>\n",
       "      <td>일주일내</td>\n",
       "      <td>N</td>\n",
       "      <td>신규</td>\n",
       "      <td>N</td>\n",
       "      <td>1.00000</td>\n",
       "      <td>약정만료후 12개월이상</td>\n",
       "      <td>50대</td>\n",
       "      <td>N</td>\n",
       "      <td>2.91000</td>\n",
       "      <td>-41</td>\n",
       "      <td>베이직</td>\n",
       "      <td>HD</td>\n",
       "      <td>N</td>\n",
       "      <td>N</td>\n",
       "      <td>0.62316</td>\n",
       "      <td>0.37684</td>\n",
       "      <td>0</td>\n",
       "    </tr>\n",
       "    <tr>\n",
       "      <th>22099081</th>\n",
       "      <td>fffffa7eda8144ce27e65690933ae8994e6962fefd24c982990467add99d61a7</td>\n",
       "      <td>10</td>\n",
       "      <td>현장경로</td>\n",
       "      <td>10.00000</td>\n",
       "      <td>2399</td>\n",
       "      <td>2주일전</td>\n",
       "      <td>N</td>\n",
       "      <td>신규</td>\n",
       "      <td>N</td>\n",
       "      <td>1.00000</td>\n",
       "      <td>약정만료후 12개월이상</td>\n",
       "      <td>50대</td>\n",
       "      <td>N</td>\n",
       "      <td>1.97000</td>\n",
       "      <td>-42</td>\n",
       "      <td>베이직</td>\n",
       "      <td>HD</td>\n",
       "      <td>Y</td>\n",
       "      <td>N</td>\n",
       "      <td>0.13084</td>\n",
       "      <td>0.86916</td>\n",
       "      <td>1</td>\n",
       "    </tr>\n",
       "    <tr>\n",
       "      <th>22099082</th>\n",
       "      <td>fffffa7eda8144ce27e65690933ae8994e6962fefd24c982990467add99d61a7</td>\n",
       "      <td>11</td>\n",
       "      <td>현장경로</td>\n",
       "      <td>0.00000</td>\n",
       "      <td>2429</td>\n",
       "      <td>3개월내없음</td>\n",
       "      <td>N</td>\n",
       "      <td>신규</td>\n",
       "      <td>N</td>\n",
       "      <td>1.00000</td>\n",
       "      <td>약정만료후 12개월이상</td>\n",
       "      <td>50대</td>\n",
       "      <td>N</td>\n",
       "      <td>0.00000</td>\n",
       "      <td>-43</td>\n",
       "      <td>베이직</td>\n",
       "      <td>HD</td>\n",
       "      <td>N</td>\n",
       "      <td>N</td>\n",
       "      <td>0.33868</td>\n",
       "      <td>0.66132</td>\n",
       "      <td>1</td>\n",
       "    </tr>\n",
       "    <tr>\n",
       "      <th>22099083</th>\n",
       "      <td>fffffa7eda8144ce27e65690933ae8994e6962fefd24c982990467add99d61a7</td>\n",
       "      <td>12</td>\n",
       "      <td>현장경로</td>\n",
       "      <td>0.00000</td>\n",
       "      <td>2460</td>\n",
       "      <td>3개월내없음</td>\n",
       "      <td>Y</td>\n",
       "      <td>신규</td>\n",
       "      <td>N</td>\n",
       "      <td>1.00000</td>\n",
       "      <td>약정만료후 12개월이상</td>\n",
       "      <td>50대</td>\n",
       "      <td>N</td>\n",
       "      <td>0.00000</td>\n",
       "      <td>-44</td>\n",
       "      <td>베이직</td>\n",
       "      <td>HD</td>\n",
       "      <td>N</td>\n",
       "      <td>N</td>\n",
       "      <td>0.33945</td>\n",
       "      <td>0.66055</td>\n",
       "      <td>1</td>\n",
       "    </tr>\n",
       "  </tbody>\n",
       "</table>\n",
       "<p>22099084 rows × 22 columns</p>\n",
       "</div>"
      ],
      "text/plain": [
       "                                                                 sha2_hash  \\\n",
       "0         0000113b86db7c509bbe74d609529031b03b7c033dbdfbd8b7fcecbf92bc8600   \n",
       "1         0000113b86db7c509bbe74d609529031b03b7c033dbdfbd8b7fcecbf92bc8600   \n",
       "2         0000113b86db7c509bbe74d609529031b03b7c033dbdfbd8b7fcecbf92bc8600   \n",
       "3         0000113b86db7c509bbe74d609529031b03b7c033dbdfbd8b7fcecbf92bc8600   \n",
       "4         0000113b86db7c509bbe74d609529031b03b7c033dbdfbd8b7fcecbf92bc8600   \n",
       "...                                                                    ...   \n",
       "22099079  fffffa7eda8144ce27e65690933ae8994e6962fefd24c982990467add99d61a7   \n",
       "22099080  fffffa7eda8144ce27e65690933ae8994e6962fefd24c982990467add99d61a7   \n",
       "22099081  fffffa7eda8144ce27e65690933ae8994e6962fefd24c982990467add99d61a7   \n",
       "22099082  fffffa7eda8144ce27e65690933ae8994e6962fefd24c982990467add99d61a7   \n",
       "22099083  fffffa7eda8144ce27e65690933ae8994e6962fefd24c982990467add99d61a7   \n",
       "\n",
       "          p_mt SCRB_PATH_NM_GRP  INHOME_RATE  TOTAL_USED_DAYS  \\\n",
       "0            2              I/B      0.00000              733   \n",
       "1            3              I/B      0.00000              764   \n",
       "2            4              I/B     10.00000              794   \n",
       "3            5              I/B     10.00000              825   \n",
       "4            6              I/B      0.00000              855   \n",
       "...        ...              ...          ...              ...   \n",
       "22099079     8             현장경로     10.00000             2338   \n",
       "22099080     9             현장경로     10.00000             2368   \n",
       "22099081    10             현장경로     10.00000             2399   \n",
       "22099082    11             현장경로      0.00000             2429   \n",
       "22099083    12             현장경로      0.00000             2460   \n",
       "\n",
       "         CH_LAST_DAYS_BF_GRP STB_RES_1M_YN AGMT_KIND_NM BUNDLE_YN  TV_I_CNT  \\\n",
       "0                     3개월내없음             N           신규         Y   3.00000   \n",
       "1                       일주일내             Y           신규         Y   3.00000   \n",
       "2                       3주일전             N           신규         Y   3.00000   \n",
       "3                       4주일전             N           신규         Y   3.00000   \n",
       "4                       일주일내             N           신규         Y   3.00000   \n",
       "...                      ...           ...          ...       ...       ...   \n",
       "22099079                일주일내             N           신규         N   1.00000   \n",
       "22099080                일주일내             N           신규         N   1.00000   \n",
       "22099081                2주일전             N           신규         N   1.00000   \n",
       "22099082              3개월내없음             N           신규         N   1.00000   \n",
       "22099083              3개월내없음             Y           신규         N   1.00000   \n",
       "\n",
       "          AGMT_END_SEG AGE_GRP10 VOC_STOP_CANCEL_MONTH1_YN  CH_HH_AVG_MONTH1  \\\n",
       "0         약정만료전 12개월이상       60대                         N           0.00000   \n",
       "1         약정만료전 9~12개월       60대                         N           6.72000   \n",
       "2         약정만료전 9~12개월       60대                         N           9.86000   \n",
       "3         약정만료전 9~12개월       60대                         N           5.95000   \n",
       "4          약정만료전 6~9개월       60대                         N           4.03000   \n",
       "...                ...       ...                       ...               ...   \n",
       "22099079  약정만료후 12개월이상       50대                         N           2.03000   \n",
       "22099080  약정만료후 12개월이상       50대                         N           2.91000   \n",
       "22099081  약정만료후 12개월이상       50대                         N           1.97000   \n",
       "22099082  약정만료후 12개월이상       50대                         N           0.00000   \n",
       "22099083  약정만료후 12개월이상       50대                         N           0.00000   \n",
       "\n",
       "          MONTHS_REMAINING PROD_NM_GRP MEDIA_NM_GRP VOC_TOTAL_MONTH1_YN churn  \\\n",
       "0                       13        이코노미           HD                   N     N   \n",
       "1                       12        이코노미           HD                   Y     N   \n",
       "2                       11        이코노미           HD                   N     N   \n",
       "3                       10        이코노미           HD                   N     N   \n",
       "4                        9        이코노미           HD                   N     N   \n",
       "...                    ...         ...          ...                 ...   ...   \n",
       "22099079               -40         베이직           HD                   N     N   \n",
       "22099080               -41         베이직           HD                   N     N   \n",
       "22099081               -42         베이직           HD                   Y     N   \n",
       "22099082               -43         베이직           HD                   N     N   \n",
       "22099083               -44         베이직           HD                   N     N   \n",
       "\n",
       "          probability_0  probability_1  prediction  \n",
       "0               0.37332        0.62668           1  \n",
       "1               0.39693        0.60307           1  \n",
       "2               0.48195        0.51805           1  \n",
       "3               0.53341        0.46659           0  \n",
       "4               0.66975        0.33025           0  \n",
       "...                 ...            ...         ...  \n",
       "22099079        0.61504        0.38496           0  \n",
       "22099080        0.62316        0.37684           0  \n",
       "22099081        0.13084        0.86916           1  \n",
       "22099082        0.33868        0.66132           1  \n",
       "22099083        0.33945        0.66055           1  \n",
       "\n",
       "[22099084 rows x 22 columns]"
      ]
     },
     "execution_count": 3,
     "metadata": {},
     "output_type": "execute_result"
    }
   ],
   "source": [
    "df"
   ]
  },
  {
   "cell_type": "markdown",
   "metadata": {},
   "source": [
    "probability_1 = 모델이 생각한 해지율 <br><br>\n",
    "prediction = 모델이 생각한 해지 여부 (0.5 (threshold) 이상이면 해지라고 예측)"
   ]
  },
  {
   "cell_type": "code",
   "execution_count": 4,
   "metadata": {},
   "outputs": [],
   "source": [
    "# 일단 유지확률은 지워놓자\n",
    "\n",
    "df.drop(columns=['probability_0'], axis=1, inplace=True)"
   ]
  },
  {
   "cell_type": "code",
   "execution_count": 5,
   "metadata": {},
   "outputs": [
    {
     "data": {
      "text/html": [
       "<div>\n",
       "<style scoped>\n",
       "    .dataframe tbody tr th:only-of-type {\n",
       "        vertical-align: middle;\n",
       "    }\n",
       "\n",
       "    .dataframe tbody tr th {\n",
       "        vertical-align: top;\n",
       "    }\n",
       "\n",
       "    .dataframe thead th {\n",
       "        text-align: right;\n",
       "    }\n",
       "</style>\n",
       "<table border=\"1\" class=\"dataframe\">\n",
       "  <thead>\n",
       "    <tr style=\"text-align: right;\">\n",
       "      <th></th>\n",
       "      <th>sha2_hash</th>\n",
       "      <th>p_mt</th>\n",
       "      <th>SCRB_PATH_NM_GRP</th>\n",
       "      <th>INHOME_RATE</th>\n",
       "      <th>TOTAL_USED_DAYS</th>\n",
       "      <th>CH_LAST_DAYS_BF_GRP</th>\n",
       "      <th>STB_RES_1M_YN</th>\n",
       "      <th>AGMT_KIND_NM</th>\n",
       "      <th>BUNDLE_YN</th>\n",
       "      <th>TV_I_CNT</th>\n",
       "      <th>AGMT_END_SEG</th>\n",
       "      <th>AGE_GRP10</th>\n",
       "      <th>VOC_STOP_CANCEL_MONTH1_YN</th>\n",
       "      <th>CH_HH_AVG_MONTH1</th>\n",
       "      <th>MONTHS_REMAINING</th>\n",
       "      <th>PROD_NM_GRP</th>\n",
       "      <th>MEDIA_NM_GRP</th>\n",
       "      <th>VOC_TOTAL_MONTH1_YN</th>\n",
       "      <th>churn</th>\n",
       "      <th>probability_1</th>\n",
       "      <th>prediction</th>\n",
       "    </tr>\n",
       "  </thead>\n",
       "  <tbody>\n",
       "    <tr>\n",
       "      <th>0</th>\n",
       "      <td>0000113b86db7c509bbe74d609529031b03b7c033dbdfbd8b7fcecbf92bc8600</td>\n",
       "      <td>2</td>\n",
       "      <td>I/B</td>\n",
       "      <td>0.00000</td>\n",
       "      <td>733</td>\n",
       "      <td>3개월내없음</td>\n",
       "      <td>N</td>\n",
       "      <td>신규</td>\n",
       "      <td>Y</td>\n",
       "      <td>3.00000</td>\n",
       "      <td>약정만료전 12개월이상</td>\n",
       "      <td>60대</td>\n",
       "      <td>N</td>\n",
       "      <td>0.00000</td>\n",
       "      <td>13</td>\n",
       "      <td>이코노미</td>\n",
       "      <td>HD</td>\n",
       "      <td>N</td>\n",
       "      <td>N</td>\n",
       "      <td>0.62668</td>\n",
       "      <td>1</td>\n",
       "    </tr>\n",
       "    <tr>\n",
       "      <th>1</th>\n",
       "      <td>0000113b86db7c509bbe74d609529031b03b7c033dbdfbd8b7fcecbf92bc8600</td>\n",
       "      <td>3</td>\n",
       "      <td>I/B</td>\n",
       "      <td>0.00000</td>\n",
       "      <td>764</td>\n",
       "      <td>일주일내</td>\n",
       "      <td>Y</td>\n",
       "      <td>신규</td>\n",
       "      <td>Y</td>\n",
       "      <td>3.00000</td>\n",
       "      <td>약정만료전 9~12개월</td>\n",
       "      <td>60대</td>\n",
       "      <td>N</td>\n",
       "      <td>6.72000</td>\n",
       "      <td>12</td>\n",
       "      <td>이코노미</td>\n",
       "      <td>HD</td>\n",
       "      <td>Y</td>\n",
       "      <td>N</td>\n",
       "      <td>0.60307</td>\n",
       "      <td>1</td>\n",
       "    </tr>\n",
       "    <tr>\n",
       "      <th>2</th>\n",
       "      <td>0000113b86db7c509bbe74d609529031b03b7c033dbdfbd8b7fcecbf92bc8600</td>\n",
       "      <td>4</td>\n",
       "      <td>I/B</td>\n",
       "      <td>10.00000</td>\n",
       "      <td>794</td>\n",
       "      <td>3주일전</td>\n",
       "      <td>N</td>\n",
       "      <td>신규</td>\n",
       "      <td>Y</td>\n",
       "      <td>3.00000</td>\n",
       "      <td>약정만료전 9~12개월</td>\n",
       "      <td>60대</td>\n",
       "      <td>N</td>\n",
       "      <td>9.86000</td>\n",
       "      <td>11</td>\n",
       "      <td>이코노미</td>\n",
       "      <td>HD</td>\n",
       "      <td>N</td>\n",
       "      <td>N</td>\n",
       "      <td>0.51805</td>\n",
       "      <td>1</td>\n",
       "    </tr>\n",
       "    <tr>\n",
       "      <th>3</th>\n",
       "      <td>0000113b86db7c509bbe74d609529031b03b7c033dbdfbd8b7fcecbf92bc8600</td>\n",
       "      <td>5</td>\n",
       "      <td>I/B</td>\n",
       "      <td>10.00000</td>\n",
       "      <td>825</td>\n",
       "      <td>4주일전</td>\n",
       "      <td>N</td>\n",
       "      <td>신규</td>\n",
       "      <td>Y</td>\n",
       "      <td>3.00000</td>\n",
       "      <td>약정만료전 9~12개월</td>\n",
       "      <td>60대</td>\n",
       "      <td>N</td>\n",
       "      <td>5.95000</td>\n",
       "      <td>10</td>\n",
       "      <td>이코노미</td>\n",
       "      <td>HD</td>\n",
       "      <td>N</td>\n",
       "      <td>N</td>\n",
       "      <td>0.46659</td>\n",
       "      <td>0</td>\n",
       "    </tr>\n",
       "    <tr>\n",
       "      <th>4</th>\n",
       "      <td>0000113b86db7c509bbe74d609529031b03b7c033dbdfbd8b7fcecbf92bc8600</td>\n",
       "      <td>6</td>\n",
       "      <td>I/B</td>\n",
       "      <td>0.00000</td>\n",
       "      <td>855</td>\n",
       "      <td>일주일내</td>\n",
       "      <td>N</td>\n",
       "      <td>신규</td>\n",
       "      <td>Y</td>\n",
       "      <td>3.00000</td>\n",
       "      <td>약정만료전 6~9개월</td>\n",
       "      <td>60대</td>\n",
       "      <td>N</td>\n",
       "      <td>4.03000</td>\n",
       "      <td>9</td>\n",
       "      <td>이코노미</td>\n",
       "      <td>HD</td>\n",
       "      <td>N</td>\n",
       "      <td>N</td>\n",
       "      <td>0.33025</td>\n",
       "      <td>0</td>\n",
       "    </tr>\n",
       "    <tr>\n",
       "      <th>...</th>\n",
       "      <td>...</td>\n",
       "      <td>...</td>\n",
       "      <td>...</td>\n",
       "      <td>...</td>\n",
       "      <td>...</td>\n",
       "      <td>...</td>\n",
       "      <td>...</td>\n",
       "      <td>...</td>\n",
       "      <td>...</td>\n",
       "      <td>...</td>\n",
       "      <td>...</td>\n",
       "      <td>...</td>\n",
       "      <td>...</td>\n",
       "      <td>...</td>\n",
       "      <td>...</td>\n",
       "      <td>...</td>\n",
       "      <td>...</td>\n",
       "      <td>...</td>\n",
       "      <td>...</td>\n",
       "      <td>...</td>\n",
       "      <td>...</td>\n",
       "    </tr>\n",
       "    <tr>\n",
       "      <th>22099079</th>\n",
       "      <td>fffffa7eda8144ce27e65690933ae8994e6962fefd24c982990467add99d61a7</td>\n",
       "      <td>8</td>\n",
       "      <td>현장경로</td>\n",
       "      <td>10.00000</td>\n",
       "      <td>2338</td>\n",
       "      <td>일주일내</td>\n",
       "      <td>N</td>\n",
       "      <td>신규</td>\n",
       "      <td>N</td>\n",
       "      <td>1.00000</td>\n",
       "      <td>약정만료후 12개월이상</td>\n",
       "      <td>50대</td>\n",
       "      <td>N</td>\n",
       "      <td>2.03000</td>\n",
       "      <td>-40</td>\n",
       "      <td>베이직</td>\n",
       "      <td>HD</td>\n",
       "      <td>N</td>\n",
       "      <td>N</td>\n",
       "      <td>0.38496</td>\n",
       "      <td>0</td>\n",
       "    </tr>\n",
       "    <tr>\n",
       "      <th>22099080</th>\n",
       "      <td>fffffa7eda8144ce27e65690933ae8994e6962fefd24c982990467add99d61a7</td>\n",
       "      <td>9</td>\n",
       "      <td>현장경로</td>\n",
       "      <td>10.00000</td>\n",
       "      <td>2368</td>\n",
       "      <td>일주일내</td>\n",
       "      <td>N</td>\n",
       "      <td>신규</td>\n",
       "      <td>N</td>\n",
       "      <td>1.00000</td>\n",
       "      <td>약정만료후 12개월이상</td>\n",
       "      <td>50대</td>\n",
       "      <td>N</td>\n",
       "      <td>2.91000</td>\n",
       "      <td>-41</td>\n",
       "      <td>베이직</td>\n",
       "      <td>HD</td>\n",
       "      <td>N</td>\n",
       "      <td>N</td>\n",
       "      <td>0.37684</td>\n",
       "      <td>0</td>\n",
       "    </tr>\n",
       "    <tr>\n",
       "      <th>22099081</th>\n",
       "      <td>fffffa7eda8144ce27e65690933ae8994e6962fefd24c982990467add99d61a7</td>\n",
       "      <td>10</td>\n",
       "      <td>현장경로</td>\n",
       "      <td>10.00000</td>\n",
       "      <td>2399</td>\n",
       "      <td>2주일전</td>\n",
       "      <td>N</td>\n",
       "      <td>신규</td>\n",
       "      <td>N</td>\n",
       "      <td>1.00000</td>\n",
       "      <td>약정만료후 12개월이상</td>\n",
       "      <td>50대</td>\n",
       "      <td>N</td>\n",
       "      <td>1.97000</td>\n",
       "      <td>-42</td>\n",
       "      <td>베이직</td>\n",
       "      <td>HD</td>\n",
       "      <td>Y</td>\n",
       "      <td>N</td>\n",
       "      <td>0.86916</td>\n",
       "      <td>1</td>\n",
       "    </tr>\n",
       "    <tr>\n",
       "      <th>22099082</th>\n",
       "      <td>fffffa7eda8144ce27e65690933ae8994e6962fefd24c982990467add99d61a7</td>\n",
       "      <td>11</td>\n",
       "      <td>현장경로</td>\n",
       "      <td>0.00000</td>\n",
       "      <td>2429</td>\n",
       "      <td>3개월내없음</td>\n",
       "      <td>N</td>\n",
       "      <td>신규</td>\n",
       "      <td>N</td>\n",
       "      <td>1.00000</td>\n",
       "      <td>약정만료후 12개월이상</td>\n",
       "      <td>50대</td>\n",
       "      <td>N</td>\n",
       "      <td>0.00000</td>\n",
       "      <td>-43</td>\n",
       "      <td>베이직</td>\n",
       "      <td>HD</td>\n",
       "      <td>N</td>\n",
       "      <td>N</td>\n",
       "      <td>0.66132</td>\n",
       "      <td>1</td>\n",
       "    </tr>\n",
       "    <tr>\n",
       "      <th>22099083</th>\n",
       "      <td>fffffa7eda8144ce27e65690933ae8994e6962fefd24c982990467add99d61a7</td>\n",
       "      <td>12</td>\n",
       "      <td>현장경로</td>\n",
       "      <td>0.00000</td>\n",
       "      <td>2460</td>\n",
       "      <td>3개월내없음</td>\n",
       "      <td>Y</td>\n",
       "      <td>신규</td>\n",
       "      <td>N</td>\n",
       "      <td>1.00000</td>\n",
       "      <td>약정만료후 12개월이상</td>\n",
       "      <td>50대</td>\n",
       "      <td>N</td>\n",
       "      <td>0.00000</td>\n",
       "      <td>-44</td>\n",
       "      <td>베이직</td>\n",
       "      <td>HD</td>\n",
       "      <td>N</td>\n",
       "      <td>N</td>\n",
       "      <td>0.66055</td>\n",
       "      <td>1</td>\n",
       "    </tr>\n",
       "  </tbody>\n",
       "</table>\n",
       "<p>22099084 rows × 21 columns</p>\n",
       "</div>"
      ],
      "text/plain": [
       "                                                                 sha2_hash  \\\n",
       "0         0000113b86db7c509bbe74d609529031b03b7c033dbdfbd8b7fcecbf92bc8600   \n",
       "1         0000113b86db7c509bbe74d609529031b03b7c033dbdfbd8b7fcecbf92bc8600   \n",
       "2         0000113b86db7c509bbe74d609529031b03b7c033dbdfbd8b7fcecbf92bc8600   \n",
       "3         0000113b86db7c509bbe74d609529031b03b7c033dbdfbd8b7fcecbf92bc8600   \n",
       "4         0000113b86db7c509bbe74d609529031b03b7c033dbdfbd8b7fcecbf92bc8600   \n",
       "...                                                                    ...   \n",
       "22099079  fffffa7eda8144ce27e65690933ae8994e6962fefd24c982990467add99d61a7   \n",
       "22099080  fffffa7eda8144ce27e65690933ae8994e6962fefd24c982990467add99d61a7   \n",
       "22099081  fffffa7eda8144ce27e65690933ae8994e6962fefd24c982990467add99d61a7   \n",
       "22099082  fffffa7eda8144ce27e65690933ae8994e6962fefd24c982990467add99d61a7   \n",
       "22099083  fffffa7eda8144ce27e65690933ae8994e6962fefd24c982990467add99d61a7   \n",
       "\n",
       "          p_mt SCRB_PATH_NM_GRP  INHOME_RATE  TOTAL_USED_DAYS  \\\n",
       "0            2              I/B      0.00000              733   \n",
       "1            3              I/B      0.00000              764   \n",
       "2            4              I/B     10.00000              794   \n",
       "3            5              I/B     10.00000              825   \n",
       "4            6              I/B      0.00000              855   \n",
       "...        ...              ...          ...              ...   \n",
       "22099079     8             현장경로     10.00000             2338   \n",
       "22099080     9             현장경로     10.00000             2368   \n",
       "22099081    10             현장경로     10.00000             2399   \n",
       "22099082    11             현장경로      0.00000             2429   \n",
       "22099083    12             현장경로      0.00000             2460   \n",
       "\n",
       "         CH_LAST_DAYS_BF_GRP STB_RES_1M_YN AGMT_KIND_NM BUNDLE_YN  TV_I_CNT  \\\n",
       "0                     3개월내없음             N           신규         Y   3.00000   \n",
       "1                       일주일내             Y           신규         Y   3.00000   \n",
       "2                       3주일전             N           신규         Y   3.00000   \n",
       "3                       4주일전             N           신규         Y   3.00000   \n",
       "4                       일주일내             N           신규         Y   3.00000   \n",
       "...                      ...           ...          ...       ...       ...   \n",
       "22099079                일주일내             N           신규         N   1.00000   \n",
       "22099080                일주일내             N           신규         N   1.00000   \n",
       "22099081                2주일전             N           신규         N   1.00000   \n",
       "22099082              3개월내없음             N           신규         N   1.00000   \n",
       "22099083              3개월내없음             Y           신규         N   1.00000   \n",
       "\n",
       "          AGMT_END_SEG AGE_GRP10 VOC_STOP_CANCEL_MONTH1_YN  CH_HH_AVG_MONTH1  \\\n",
       "0         약정만료전 12개월이상       60대                         N           0.00000   \n",
       "1         약정만료전 9~12개월       60대                         N           6.72000   \n",
       "2         약정만료전 9~12개월       60대                         N           9.86000   \n",
       "3         약정만료전 9~12개월       60대                         N           5.95000   \n",
       "4          약정만료전 6~9개월       60대                         N           4.03000   \n",
       "...                ...       ...                       ...               ...   \n",
       "22099079  약정만료후 12개월이상       50대                         N           2.03000   \n",
       "22099080  약정만료후 12개월이상       50대                         N           2.91000   \n",
       "22099081  약정만료후 12개월이상       50대                         N           1.97000   \n",
       "22099082  약정만료후 12개월이상       50대                         N           0.00000   \n",
       "22099083  약정만료후 12개월이상       50대                         N           0.00000   \n",
       "\n",
       "          MONTHS_REMAINING PROD_NM_GRP MEDIA_NM_GRP VOC_TOTAL_MONTH1_YN churn  \\\n",
       "0                       13        이코노미           HD                   N     N   \n",
       "1                       12        이코노미           HD                   Y     N   \n",
       "2                       11        이코노미           HD                   N     N   \n",
       "3                       10        이코노미           HD                   N     N   \n",
       "4                        9        이코노미           HD                   N     N   \n",
       "...                    ...         ...          ...                 ...   ...   \n",
       "22099079               -40         베이직           HD                   N     N   \n",
       "22099080               -41         베이직           HD                   N     N   \n",
       "22099081               -42         베이직           HD                   Y     N   \n",
       "22099082               -43         베이직           HD                   N     N   \n",
       "22099083               -44         베이직           HD                   N     N   \n",
       "\n",
       "          probability_1  prediction  \n",
       "0               0.62668           1  \n",
       "1               0.60307           1  \n",
       "2               0.51805           1  \n",
       "3               0.46659           0  \n",
       "4               0.33025           0  \n",
       "...                 ...         ...  \n",
       "22099079        0.38496           0  \n",
       "22099080        0.37684           0  \n",
       "22099081        0.86916           1  \n",
       "22099082        0.66132           1  \n",
       "22099083        0.66055           1  \n",
       "\n",
       "[22099084 rows x 21 columns]"
      ]
     },
     "execution_count": 5,
     "metadata": {},
     "output_type": "execute_result"
    }
   ],
   "source": [
    "df"
   ]
  },
  {
   "cell_type": "markdown",
   "metadata": {},
   "source": [
    "### 모델이 1(해지)로 예측했을 때, 실제 해지인 사람들 위주로 확인해보자.\n",
    "실제 해지인데, 모델이 1로 예측할만큼 가장 위험한 사람들이다."
   ]
  },
  {
   "cell_type": "code",
   "execution_count": 34,
   "metadata": {},
   "outputs": [],
   "source": [
    "check_df = df[(df['churn'] == 'Y') & (df['prediction'] == 1)]"
   ]
  },
  {
   "cell_type": "code",
   "execution_count": 35,
   "metadata": {},
   "outputs": [
    {
     "data": {
      "text/plain": [
       "count   97400.00000\n",
       "mean        0.82435\n",
       "std         0.15662\n",
       "min         0.50000\n",
       "25%         0.69029\n",
       "50%         0.87108\n",
       "75%         0.97080\n",
       "max         0.99843\n",
       "Name: probability_1, dtype: float64"
      ]
     },
     "execution_count": 35,
     "metadata": {},
     "output_type": "execute_result"
    }
   ],
   "source": [
    "check_df['probability_1'].describe()"
   ]
  },
  {
   "cell_type": "markdown",
   "metadata": {},
   "source": [
    "월 별로 확인해보자"
   ]
  },
  {
   "cell_type": "code",
   "execution_count": 36,
   "metadata": {},
   "outputs": [
    {
     "name": "stdout",
     "output_type": "stream",
     "text": [
      "2월\n"
     ]
    },
    {
     "data": {
      "text/plain": [
       "count   9839.00000\n",
       "mean       0.80939\n",
       "std        0.15813\n",
       "min        0.50003\n",
       "25%        0.67206\n",
       "50%        0.84120\n",
       "75%        0.96158\n",
       "max        0.99814\n",
       "Name: probability_1, dtype: float64"
      ]
     },
     "metadata": {},
     "output_type": "display_data"
    },
    {
     "name": "stdout",
     "output_type": "stream",
     "text": [
      "--------------------------------------\n",
      "3월\n"
     ]
    },
    {
     "data": {
      "text/plain": [
       "count   9289.00000\n",
       "mean       0.82057\n",
       "std        0.15782\n",
       "min        0.50014\n",
       "25%        0.68273\n",
       "50%        0.86431\n",
       "75%        0.96845\n",
       "max        0.99827\n",
       "Name: probability_1, dtype: float64"
      ]
     },
     "metadata": {},
     "output_type": "display_data"
    },
    {
     "name": "stdout",
     "output_type": "stream",
     "text": [
      "--------------------------------------\n",
      "4월\n"
     ]
    },
    {
     "data": {
      "text/plain": [
       "count   9072.00000\n",
       "mean       0.81696\n",
       "std        0.15909\n",
       "min        0.50001\n",
       "25%        0.67751\n",
       "50%        0.85718\n",
       "75%        0.96862\n",
       "max        0.99833\n",
       "Name: probability_1, dtype: float64"
      ]
     },
     "metadata": {},
     "output_type": "display_data"
    },
    {
     "name": "stdout",
     "output_type": "stream",
     "text": [
      "--------------------------------------\n",
      "5월\n"
     ]
    },
    {
     "data": {
      "text/plain": [
       "count   10069.00000\n",
       "mean        0.83046\n",
       "std         0.15608\n",
       "min         0.50013\n",
       "25%         0.70015\n",
       "50%         0.88092\n",
       "75%         0.97647\n",
       "max         0.99837\n",
       "Name: probability_1, dtype: float64"
      ]
     },
     "metadata": {},
     "output_type": "display_data"
    },
    {
     "name": "stdout",
     "output_type": "stream",
     "text": [
      "--------------------------------------\n",
      "6월\n"
     ]
    },
    {
     "data": {
      "text/plain": [
       "count   9669.00000\n",
       "mean       0.82805\n",
       "std        0.15552\n",
       "min        0.50000\n",
       "25%        0.69934\n",
       "50%        0.87885\n",
       "75%        0.97090\n",
       "max        0.99829\n",
       "Name: probability_1, dtype: float64"
      ]
     },
     "metadata": {},
     "output_type": "display_data"
    },
    {
     "name": "stdout",
     "output_type": "stream",
     "text": [
      "--------------------------------------\n",
      "7월\n"
     ]
    },
    {
     "data": {
      "text/plain": [
       "count   10011.00000\n",
       "mean        0.82655\n",
       "std         0.15621\n",
       "min         0.50005\n",
       "25%         0.69294\n",
       "50%         0.87636\n",
       "75%         0.97149\n",
       "max         0.99826\n",
       "Name: probability_1, dtype: float64"
      ]
     },
     "metadata": {},
     "output_type": "display_data"
    },
    {
     "name": "stdout",
     "output_type": "stream",
     "text": [
      "--------------------------------------\n",
      "8월\n"
     ]
    },
    {
     "data": {
      "text/plain": [
       "count   9483.00000\n",
       "mean       0.83667\n",
       "std        0.15442\n",
       "min        0.50001\n",
       "25%        0.70826\n",
       "50%        0.89624\n",
       "75%        0.97596\n",
       "max        0.99812\n",
       "Name: probability_1, dtype: float64"
      ]
     },
     "metadata": {},
     "output_type": "display_data"
    },
    {
     "name": "stdout",
     "output_type": "stream",
     "text": [
      "--------------------------------------\n",
      "9월\n"
     ]
    },
    {
     "data": {
      "text/plain": [
       "count   9373.00000\n",
       "mean       0.83039\n",
       "std        0.15536\n",
       "min        0.50007\n",
       "25%        0.70076\n",
       "50%        0.88396\n",
       "75%        0.97401\n",
       "max        0.99827\n",
       "Name: probability_1, dtype: float64"
      ]
     },
     "metadata": {},
     "output_type": "display_data"
    },
    {
     "name": "stdout",
     "output_type": "stream",
     "text": [
      "--------------------------------------\n",
      "10월\n"
     ]
    },
    {
     "data": {
      "text/plain": [
       "count   10644.00000\n",
       "mean        0.82907\n",
       "std         0.15602\n",
       "min         0.50003\n",
       "25%         0.69496\n",
       "50%         0.88102\n",
       "75%         0.97315\n",
       "max         0.99843\n",
       "Name: probability_1, dtype: float64"
      ]
     },
     "metadata": {},
     "output_type": "display_data"
    },
    {
     "name": "stdout",
     "output_type": "stream",
     "text": [
      "--------------------------------------\n",
      "11월\n"
     ]
    },
    {
     "data": {
      "text/plain": [
       "count   9951.00000\n",
       "mean       0.81497\n",
       "std        0.15569\n",
       "min        0.50039\n",
       "25%        0.67853\n",
       "50%        0.85113\n",
       "75%        0.96439\n",
       "max        0.99827\n",
       "Name: probability_1, dtype: float64"
      ]
     },
     "metadata": {},
     "output_type": "display_data"
    },
    {
     "name": "stdout",
     "output_type": "stream",
     "text": [
      "--------------------------------------\n"
     ]
    }
   ],
   "source": [
    "# 2월\n",
    "print(\"2월\")\n",
    "display(check_df[(check_df['p_mt'] == 2)]['probability_1'].describe())\n",
    "print(\"--------------------------------------\")\n",
    "\n",
    "# 3월\n",
    "print(\"3월\")\n",
    "display(check_df[(check_df['p_mt'] == 3)]['probability_1'].describe())\n",
    "print(\"--------------------------------------\")\n",
    "\n",
    "# 4월\n",
    "print(\"4월\")\n",
    "display(check_df[(check_df['p_mt'] == 4)]['probability_1'].describe())\n",
    "print(\"--------------------------------------\")\n",
    "\n",
    "# 5월\n",
    "print(\"5월\")\n",
    "display(check_df[(check_df['p_mt'] == 5)]['probability_1'].describe())\n",
    "print(\"--------------------------------------\")\n",
    "\n",
    "# 6월\n",
    "print(\"6월\")\n",
    "display(check_df[(check_df['p_mt'] == 6)]['probability_1'].describe())\n",
    "print(\"--------------------------------------\")\n",
    "\n",
    "# 7월\n",
    "print(\"7월\")\n",
    "display(check_df[(check_df['p_mt'] == 7)]['probability_1'].describe())\n",
    "print(\"--------------------------------------\")\n",
    "\n",
    "# 8월\n",
    "print(\"8월\")\n",
    "display(check_df[(check_df['p_mt'] == 8)]['probability_1'].describe())\n",
    "print(\"--------------------------------------\")\n",
    "\n",
    "# 9월\n",
    "print(\"9월\")\n",
    "display(check_df[(check_df['p_mt'] == 9)]['probability_1'].describe())\n",
    "print(\"--------------------------------------\")\n",
    "\n",
    "# 10월\n",
    "print(\"10월\")\n",
    "display(check_df[(check_df['p_mt'] == 10)]['probability_1'].describe())\n",
    "print(\"--------------------------------------\")\n",
    "\n",
    "# 11월\n",
    "print(\"11월\")\n",
    "display(check_df[(check_df['p_mt'] == 11)]['probability_1'].describe())\n",
    "print(\"--------------------------------------\")"
   ]
  },
  {
   "cell_type": "markdown",
   "metadata": {},
   "source": [
    "check_df의 2월 평균 해지율 : 0.80939<br><br>\n",
    "check_df의 3월 평균 해지율 : 0.82057<br><br>\n",
    "check_df의 4월 평균 해지율 : 0.81696<br><br>\n",
    "check_df의 5월 평균 해지율 : 0.83046<br><br>\n",
    "check_df의 6월 평균 해지율 : 0.82805<br><br>\n",
    "check_df의 7월 평균 해지율 : 0.82655<br><br>\n",
    "check_df의 8월 평균 해지율 : 0.83667<br><br>\n",
    "check_df의 9월 평균 해지율 : 0.83039<br><br>\n",
    "check_df의 10월 평균 해지율 : 0.82907<br><br>\n",
    "check_df의 11월 평균 해지율 : 0.81497<br><br>"
   ]
  },
  {
   "cell_type": "markdown",
   "metadata": {},
   "source": [
    "실제 해지인데, 모델이 1로 예측할만큼 가장 위험한 사람들의 평균 해지율은 0.8 이상이다. <br><br>\n",
    "그러므로, **0.8 이상**은 \"매우 위험\"에 속하는 고객들로 간주한다."
   ]
  },
  {
   "cell_type": "markdown",
   "metadata": {},
   "source": [
    "---"
   ]
  },
  {
   "cell_type": "markdown",
   "metadata": {},
   "source": [
    "### 모델이 0(유지)으로 예측했을 때, 실제 유지인 사람들 위주로 확인해보자.\n",
    "실제 유지인데, 모델이 0으로 예측한만큼 가장 안전한 사람들이다."
   ]
  },
  {
   "cell_type": "code",
   "execution_count": 37,
   "metadata": {},
   "outputs": [],
   "source": [
    "check_df2 = df[(df['churn'] == 'N') & (df['prediction'] == 0)]"
   ]
  },
  {
   "cell_type": "code",
   "execution_count": 39,
   "metadata": {},
   "outputs": [
    {
     "data": {
      "text/plain": [
       "count   17849319.00000\n",
       "mean           0.24369\n",
       "std            0.11600\n",
       "min            0.02017\n",
       "25%            0.14994\n",
       "50%            0.22680\n",
       "75%            0.32836\n",
       "max            0.50000\n",
       "Name: probability_1, dtype: float64"
      ]
     },
     "execution_count": 39,
     "metadata": {},
     "output_type": "execute_result"
    }
   ],
   "source": [
    "check_df2['probability_1'].describe()"
   ]
  },
  {
   "cell_type": "markdown",
   "metadata": {},
   "source": [
    "월 별로 확인"
   ]
  },
  {
   "cell_type": "code",
   "execution_count": 41,
   "metadata": {},
   "outputs": [
    {
     "name": "stdout",
     "output_type": "stream",
     "text": [
      "2월\n"
     ]
    },
    {
     "data": {
      "text/plain": [
       "count   1611861.00000\n",
       "mean          0.24420\n",
       "std           0.11626\n",
       "min           0.02035\n",
       "25%           0.15007\n",
       "50%           0.22665\n",
       "75%           0.32903\n",
       "max           0.50000\n",
       "Name: probability_1, dtype: float64"
      ]
     },
     "metadata": {},
     "output_type": "display_data"
    },
    {
     "name": "stdout",
     "output_type": "stream",
     "text": [
      "--------------------------------------\n",
      "3월\n"
     ]
    },
    {
     "data": {
      "text/plain": [
       "count   1607521.00000\n",
       "mean          0.24903\n",
       "std           0.11644\n",
       "min           0.02215\n",
       "25%           0.15428\n",
       "50%           0.23448\n",
       "75%           0.33561\n",
       "max           0.50000\n",
       "Name: probability_1, dtype: float64"
      ]
     },
     "metadata": {},
     "output_type": "display_data"
    },
    {
     "name": "stdout",
     "output_type": "stream",
     "text": [
      "--------------------------------------\n",
      "4월\n"
     ]
    },
    {
     "data": {
      "text/plain": [
       "count   1624631.00000\n",
       "mean          0.24355\n",
       "std           0.11569\n",
       "min           0.02198\n",
       "25%           0.14958\n",
       "50%           0.22779\n",
       "75%           0.32771\n",
       "max           0.50000\n",
       "Name: probability_1, dtype: float64"
      ]
     },
     "metadata": {},
     "output_type": "display_data"
    },
    {
     "name": "stdout",
     "output_type": "stream",
     "text": [
      "--------------------------------------\n",
      "5월\n"
     ]
    },
    {
     "data": {
      "text/plain": [
       "count   1622438.00000\n",
       "mean          0.24426\n",
       "std           0.11638\n",
       "min           0.02291\n",
       "25%           0.15025\n",
       "50%           0.22673\n",
       "75%           0.32989\n",
       "max           0.50000\n",
       "Name: probability_1, dtype: float64"
      ]
     },
     "metadata": {},
     "output_type": "display_data"
    },
    {
     "name": "stdout",
     "output_type": "stream",
     "text": [
      "--------------------------------------\n",
      "6월\n"
     ]
    },
    {
     "data": {
      "text/plain": [
       "count   1615519.00000\n",
       "mean          0.24462\n",
       "std           0.11634\n",
       "min           0.02017\n",
       "25%           0.15058\n",
       "50%           0.22752\n",
       "75%           0.32977\n",
       "max           0.50000\n",
       "Name: probability_1, dtype: float64"
      ]
     },
     "metadata": {},
     "output_type": "display_data"
    },
    {
     "name": "stdout",
     "output_type": "stream",
     "text": [
      "--------------------------------------\n",
      "7월\n"
     ]
    },
    {
     "data": {
      "text/plain": [
       "count   1620682.00000\n",
       "mean          0.24450\n",
       "std           0.11579\n",
       "min           0.02304\n",
       "25%           0.15023\n",
       "50%           0.22982\n",
       "75%           0.32910\n",
       "max           0.50000\n",
       "Name: probability_1, dtype: float64"
      ]
     },
     "metadata": {},
     "output_type": "display_data"
    },
    {
     "name": "stdout",
     "output_type": "stream",
     "text": [
      "--------------------------------------\n",
      "8월\n"
     ]
    },
    {
     "data": {
      "text/plain": [
       "count   1627133.00000\n",
       "mean          0.24328\n",
       "std           0.11609\n",
       "min           0.02447\n",
       "25%           0.14930\n",
       "50%           0.22651\n",
       "75%           0.32821\n",
       "max           0.50000\n",
       "Name: probability_1, dtype: float64"
      ]
     },
     "metadata": {},
     "output_type": "display_data"
    },
    {
     "name": "stdout",
     "output_type": "stream",
     "text": [
      "--------------------------------------\n",
      "9월\n"
     ]
    },
    {
     "data": {
      "text/plain": [
       "count   1656412.00000\n",
       "mean          0.23844\n",
       "std           0.11531\n",
       "min           0.02047\n",
       "25%           0.14538\n",
       "50%           0.22064\n",
       "75%           0.32139\n",
       "max           0.50000\n",
       "Name: probability_1, dtype: float64"
      ]
     },
     "metadata": {},
     "output_type": "display_data"
    },
    {
     "name": "stdout",
     "output_type": "stream",
     "text": [
      "--------------------------------------\n",
      "10월\n"
     ]
    },
    {
     "data": {
      "text/plain": [
       "count   1624585.00000\n",
       "mean          0.24233\n",
       "std           0.11586\n",
       "min           0.02300\n",
       "25%           0.14863\n",
       "50%           0.22563\n",
       "75%           0.32665\n",
       "max           0.50000\n",
       "Name: probability_1, dtype: float64"
      ]
     },
     "metadata": {},
     "output_type": "display_data"
    },
    {
     "name": "stdout",
     "output_type": "stream",
     "text": [
      "--------------------------------------\n",
      "11월\n"
     ]
    },
    {
     "data": {
      "text/plain": [
       "count   1608452.00000\n",
       "mean          0.24526\n",
       "std           0.11581\n",
       "min           0.02187\n",
       "25%           0.15295\n",
       "50%           0.22706\n",
       "75%           0.32972\n",
       "max           0.50000\n",
       "Name: probability_1, dtype: float64"
      ]
     },
     "metadata": {},
     "output_type": "display_data"
    },
    {
     "name": "stdout",
     "output_type": "stream",
     "text": [
      "--------------------------------------\n"
     ]
    }
   ],
   "source": [
    "# 2월\n",
    "print(\"2월\")\n",
    "display(check_df2[(check_df2['p_mt'] == 2)]['probability_1'].describe())\n",
    "print(\"--------------------------------------\")\n",
    "\n",
    "# 3월\n",
    "print(\"3월\")\n",
    "display(check_df2[(check_df2['p_mt'] == 3)]['probability_1'].describe())\n",
    "print(\"--------------------------------------\")\n",
    "\n",
    "# 4월\n",
    "print(\"4월\")\n",
    "display(check_df2[(check_df2['p_mt'] == 4)]['probability_1'].describe())\n",
    "print(\"--------------------------------------\")\n",
    "\n",
    "# 5월\n",
    "print(\"5월\")\n",
    "display(check_df2[(check_df2['p_mt'] == 5)]['probability_1'].describe())\n",
    "print(\"--------------------------------------\")\n",
    "\n",
    "# 6월\n",
    "print(\"6월\")\n",
    "display(check_df2[(check_df2['p_mt'] == 6)]['probability_1'].describe())\n",
    "print(\"--------------------------------------\")\n",
    "\n",
    "# 7월\n",
    "print(\"7월\")\n",
    "display(check_df2[(check_df2['p_mt'] == 7)]['probability_1'].describe())\n",
    "print(\"--------------------------------------\")\n",
    "\n",
    "# 8월\n",
    "print(\"8월\")\n",
    "display(check_df2[(check_df2['p_mt'] == 8)]['probability_1'].describe())\n",
    "print(\"--------------------------------------\")\n",
    "\n",
    "# 9월\n",
    "print(\"9월\")\n",
    "display(check_df2[(check_df2['p_mt'] == 9)]['probability_1'].describe())\n",
    "print(\"--------------------------------------\")\n",
    "\n",
    "# 10월\n",
    "print(\"10월\")\n",
    "display(check_df2[(check_df2['p_mt'] == 10)]['probability_1'].describe())\n",
    "print(\"--------------------------------------\")\n",
    "\n",
    "# 11월\n",
    "print(\"11월\")\n",
    "display(check_df2[(check_df2['p_mt'] == 11)]['probability_1'].describe())\n",
    "print(\"--------------------------------------\")"
   ]
  },
  {
   "cell_type": "markdown",
   "metadata": {},
   "source": [
    "check_df의 2월 평균 해지율 : 0.24420<br><br>\n",
    "check_df의 3월 평균 해지율 : 0.24903<br><br>\n",
    "check_df의 4월 평균 해지율 : 0.24355<br><br>\n",
    "check_df의 5월 평균 해지율 : 0.24426<br><br>\n",
    "check_df의 6월 평균 해지율 : 0.24462<br><br>\n",
    "check_df의 7월 평균 해지율 : 0.24450<br><br>\n",
    "check_df의 8월 평균 해지율 : 0.24328<br><br>\n",
    "check_df의 9월 평균 해지율 : 0.23844<br><br>\n",
    "check_df의 10월 평균 해지율 : 0.24233<br><br>\n",
    "check_df의 11월 평균 해지율 : 0.24526<br><br>"
   ]
  },
  {
   "cell_type": "markdown",
   "metadata": {},
   "source": [
    "실제 유지인데, 모델이 0으로 예측할만큼 가장 위험한 사람들의 평균 해지율은 0.25 이하이다. <br><br>\n",
    "그러므로, **0.25 이하**는 \"안정\"에 속하는 고객들로 간주한다."
   ]
  },
  {
   "cell_type": "markdown",
   "metadata": {},
   "source": [
    "가운데 구간을 어떻게 나눌지 몰라서, <br><br>\n",
    "일단 가운데 구간을 3개의 구간으로 나눈다.<br><br>\n",
    "1. 0.8 이상 (매우 위험)\n",
    "2. **0.8 미만 0.6 이상**\n",
    "3. **0.6 미만 0.4 이상**\n",
    "4. **0.4 미만 0.25 초과**\n",
    "5. 0.25 이하 (안정)"
   ]
  },
  {
   "cell_type": "code",
   "execution_count": 42,
   "metadata": {},
   "outputs": [],
   "source": [
    "# 구간 나누기\n",
    "def classify_customer_fine(probability):\n",
    "    if probability >= 0.8:\n",
    "        return '매우 위험'\n",
    "    elif probability >= 0.6:\n",
    "        return '위험'\n",
    "    elif probability >= 0.4:\n",
    "        return '주의'\n",
    "    elif probability > 0.25:\n",
    "        return '양호'\n",
    "    else:\n",
    "        return '안정'\n",
    "# 분류 적용\n",
    "df['customer_segmentation'] = df['probability_1'].apply(classify_customer_fine)"
   ]
  },
  {
   "cell_type": "code",
   "execution_count": 49,
   "metadata": {},
   "outputs": [
    {
     "data": {
      "text/plain": [
       "customer_segmentation\n",
       "안정       10113413\n",
       "양호        5463499\n",
       "주의        3945544\n",
       "위험        1859425\n",
       "매우 위험      717203\n",
       "Name: count, dtype: int64"
      ]
     },
     "metadata": {},
     "output_type": "display_data"
    }
   ],
   "source": [
    "# 결과 확인\n",
    "display(df['customer_segmentation'].value_counts())"
   ]
  },
  {
   "cell_type": "markdown",
   "metadata": {},
   "source": [
    "**안정 > 양호 > 주의 > 위험 > 매우 위험** 순으로 고객이 배치되어있다. <br><br>\n",
    "위험도가 낮을수록 고객의 수가 점진적으로 낮아짐. 자연스럽게 계층적으로 구분이 되어 있음.\n",
    "- 안정 : 약 45%\n",
    "- 양호 : 약 24%\n",
    "- 주의 : 약 17%\n",
    "- 위험 : 약 8%\n",
    "- 매우 위험 : 약 3%"
   ]
  },
  {
   "cell_type": "markdown",
   "metadata": {},
   "source": [
    "### ⭐ 이제, 각 Segmentation별 실제 해지율을 확인해보자."
   ]
  },
  {
   "cell_type": "code",
   "execution_count": 55,
   "metadata": {},
   "outputs": [],
   "source": [
    "# 그룹별 평균 확률과 해지율 계산\n",
    "# df['churn'] = df['churn'].map({'Y': 1, 'N': 0})\n",
    "\n",
    "group_stats = df.groupby('customer_segmentation').agg({\n",
    "    # 해당 그룹의 실제 해지율을 보여줍니다.\n",
    "    'churn': 'mean'\n",
    "})"
   ]
  },
  {
   "cell_type": "code",
   "execution_count": 57,
   "metadata": {},
   "outputs": [
    {
     "name": "stdout",
     "output_type": "stream",
     "text": [
      "\n"
     ]
    },
    {
     "data": {
      "text/html": [
       "<div>\n",
       "<style scoped>\n",
       "    .dataframe tbody tr th:only-of-type {\n",
       "        vertical-align: middle;\n",
       "    }\n",
       "\n",
       "    .dataframe tbody tr th {\n",
       "        vertical-align: top;\n",
       "    }\n",
       "\n",
       "    .dataframe thead th {\n",
       "        text-align: right;\n",
       "    }\n",
       "</style>\n",
       "<table border=\"1\" class=\"dataframe\">\n",
       "  <thead>\n",
       "    <tr style=\"text-align: right;\">\n",
       "      <th></th>\n",
       "      <th>churn</th>\n",
       "    </tr>\n",
       "    <tr>\n",
       "      <th>customer_segmentation</th>\n",
       "      <th></th>\n",
       "    </tr>\n",
       "  </thead>\n",
       "  <tbody>\n",
       "    <tr>\n",
       "      <th>매우 위험</th>\n",
       "      <td>0.08172</td>\n",
       "    </tr>\n",
       "    <tr>\n",
       "      <th>위험</th>\n",
       "      <td>0.01418</td>\n",
       "    </tr>\n",
       "    <tr>\n",
       "      <th>주의</th>\n",
       "      <td>0.00602</td>\n",
       "    </tr>\n",
       "    <tr>\n",
       "      <th>양호</th>\n",
       "      <td>0.00287</td>\n",
       "    </tr>\n",
       "    <tr>\n",
       "      <th>안정</th>\n",
       "      <td>0.00108</td>\n",
       "    </tr>\n",
       "  </tbody>\n",
       "</table>\n",
       "</div>"
      ],
      "text/plain": [
       "                        churn\n",
       "customer_segmentation        \n",
       "매우 위험                 0.08172\n",
       "위험                    0.01418\n",
       "주의                    0.00602\n",
       "양호                    0.00287\n",
       "안정                    0.00108"
      ]
     },
     "metadata": {},
     "output_type": "display_data"
    }
   ],
   "source": [
    "group_stats = group_stats.sort_values(by='churn', ascending=False)\n",
    "print(\"\")\n",
    "display(group_stats)"
   ]
  },
  {
   "cell_type": "markdown",
   "metadata": {},
   "source": [
    "위험도가 높은 그룹일수록 해지율이 증가하는 완벽한 계층적 구조를 보임. <br><br>\n",
    "특정 그룹에 데이터가 과도하게 몰려있지 않고, **\"안정 → 양호 → 주의 → 위험 → 매우 위험\"** 순으로 자연스럽게 계층화 되어있음. <br><br>\n",
    "\"매우 위험\" 고객의 해지율이 8.17%, \"위험\" 고객이 1.42%, \"안정\" 고객이 0.11%로, **위험도가 높을수록 해지율이 높게 나타남.** <br><br>\n",
    "\"매우 위험\" 고객은 \"안정\" 고객 대비 해지율이 **약 75배 높음**!!<br><br>\n",
    "이는 모델이 해지 가능성이 높은 고객을 \"위험군\"으로 정확히 분류하고 있다는 증거임."
   ]
  },
  {
   "cell_type": "markdown",
   "metadata": {},
   "source": [
    "### ✅ 결론 : 고객의 구간을 총 5개의 구간으로 나누고, 매우 위험, 위험, 주의 구간이 위험구간으로 파악됨."
   ]
  }
 ],
 "metadata": {
  "kernelspec": {
   "display_name": "tf_cpu",
   "language": "python",
   "name": "python3"
  },
  "language_info": {
   "codemirror_mode": {
    "name": "ipython",
    "version": 3
   },
   "file_extension": ".py",
   "mimetype": "text/x-python",
   "name": "python",
   "nbconvert_exporter": "python",
   "pygments_lexer": "ipython3",
   "version": "3.8.19"
  }
 },
 "nbformat": 4,
 "nbformat_minor": 2
}
