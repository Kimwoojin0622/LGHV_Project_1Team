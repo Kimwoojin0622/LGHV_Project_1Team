{
 "cells": [
  {
   "cell_type": "markdown",
   "metadata": {},
   "source": [
    "## ⭐ Autogluon은 **코랩**에서 진행함. GPU와 RAM이 필요하기 때문!"
   ]
  },
  {
   "cell_type": "markdown",
   "metadata": {},
   "source": [
    "### 📌 AutoGluon이란?\n",
    "**AutoGluon**은 Amazon에서 개발한 **AutoML(Auto Machine Learning) 라이브러리**로,\n",
    "\n",
    "딥러닝 및 머신러닝 모델을 **자동으로 최적화**하고 **탐색**할 수 있도록 도와줌!\n",
    "\n",
    "특히, **딥러닝 지식 없이도 손쉽게 강력한 모델을 만들 수 있는 것이 장점**\n",
    "\n",
    "---\n",
    "\n",
    "#### 🚀 AutoGluon의 주요 기능\n",
    "##### ✅ 1. AutoML 모델 학습 및 최적화\n",
    "- `AutoGluon.TabularPredictor`를 활용하여 자동으로 최적의 모델 조합(Stacking, Ensemble)을 찾음!\n",
    "\n",
    "##### ✅ 2. 하이퍼파라미터 자동 튜닝\n",
    "- `hyperparameter_tune_kwargs`를 사용하여 하이퍼파라미터를 자동으로 탐색하고 최적화\n",
    "\n",
    "##### ✅ 3. 다양한 모델 지원\n",
    "- XGBoost, LightGBM, CatBoost, Neural Networks 등 다양한 알고리즘을 자동으로 학습\n",
    "\n",
    "##### ✅ 4. 데이터 전처리 자동화\n",
    "- 결측치 처리, 범주형 변수 변환 등을 자동 수행하여 데이터 전처리 부담 감소\n",
    "\n",
    "---"
   ]
  },
  {
   "cell_type": "markdown",
   "metadata": {},
   "source": [
    "### ✅ Autogluon 코랩 코드"
   ]
  },
  {
   "cell_type": "code",
   "execution_count": null,
   "metadata": {},
   "outputs": [],
   "source": [
    "import numpy as np\n",
    "import pandas as pd\n",
    "import os\n",
    "import matplotlib.pyplot as plt\n",
    "from matplotlib import rc\n",
    "%matplotlib inline\n",
    "import seaborn as sns\n",
    "import scipy.stats as stats\n",
    "import operator\n",
    "import math\n",
    "import warnings\n",
    "import openpyxl\n",
    "import random\n",
    "warnings.filterwarnings(\"ignore\")\n",
    "from sklearn import tree\n",
    "from sklearn import preprocessing\n",
    "from sklearn.model_selection import train_test_split\n",
    "from sklearn.ensemble import RandomForestClassifier\n",
    "from sklearn.metrics import classification_report, roc_auc_score, confusion_matrix, accuracy_score\n",
    "import tensorflow as tf\n",
    "from sklearn.utils import resample\n",
    "from imblearn.over_sampling import SMOTE\n",
    "from sklearn.utils import resample\n",
    "from imblearn.under_sampling import RandomUnderSampler\n",
    "from imblearn.under_sampling import TomekLinks\n",
    "from imblearn.under_sampling import ClusterCentroids\n",
    "from imblearn.under_sampling import CondensedNearestNeighbour\n",
    "from sklearn.preprocessing import LabelEncoder, StandardScaler, MinMaxScaler\n",
    "from imblearn.over_sampling import SMOTENC\n",
    "from imblearn.pipeline import Pipeline"
   ]
  },
  {
   "cell_type": "code",
   "execution_count": null,
   "metadata": {},
   "outputs": [],
   "source": [
    "import time\n",
    "from IPython.display import display, Javascript\n",
    "\n",
    "def prevent_disconnect():\n",
    "    display(Javascript('''\n",
    "        function ClickConnect(){\n",
    "            console.log(\"코랩 연결 유지\");\n",
    "            document.querySelector(\"colab-toolbar-button#connect\").click();\n",
    "        }\n",
    "        setInterval(ClickConnect, 60000);\n",
    "    '''))\n",
    "\n",
    "prevent_disconnect()"
   ]
  },
  {
   "cell_type": "code",
   "execution_count": null,
   "metadata": {},
   "outputs": [],
   "source": [
    "from google.colab import drive\n",
    "drive.mount('/content/drive')"
   ]
  },
  {
   "cell_type": "code",
   "execution_count": null,
   "metadata": {},
   "outputs": [],
   "source": [
    "import sys\n",
    "\n",
    "# Google Colab 환경에서 실행 중인지 확인\n",
    "if 'google.colab' in sys.modules:\n",
    "    # debconf를 Noninteractive 모드로 설정\n",
    "    !echo 'debconf debconf/frontend select Noninteractive' | \\\n",
    "    debconf-set-selections\n",
    "\n",
    "    # fonts-nanum 패키지를 설치\n",
    "    !sudo apt-get -qq -y install fonts-nanum\n",
    "\n",
    "    # Matplotlib의 폰트 매니저 가져오기\n",
    "    import matplotlib.font_manager as fm\n",
    "\n",
    "    # 나눔 폰트의 시스템 경로 찾기\n",
    "    font_files = fm.findSystemFonts(fontpaths=['/usr/share/fonts/truetype/nanum'])\n",
    "\n",
    "    # 찾은 각 나눔 폰트를 Matplotlib 폰트 매니저에 추가\n",
    "    for fpath in font_files:\n",
    "        fm.fontManager.addfont(fpath)"
   ]
  },
  {
   "cell_type": "code",
   "execution_count": null,
   "metadata": {},
   "outputs": [],
   "source": [
    "plt.rc('font', family='NanumBarunGothic', size=11)\n",
    "plt.rcParams['axes.unicode_minus'] = True\n",
    "print(plt.rcParams['font.family'], plt.rcParams['font.size'])   # 폰트확인\n",
    "# df.head() 이런거 했을 때, 컬럼이 생략되지 않고, 모든 컬럼 뜨게\n",
    "pd.set_option('display.max_columns', None)\n",
    "# 지수 표기법 대신에 소수점으로 표시하는코드\n",
    "pd.options.display.float_format = '{:.2f}'.format\n",
    "# 값 길이 제한 X\n",
    "pd.set_option('display.max_colwidth', None) # 값 길이 제한 없음"
   ]
  },
  {
   "cell_type": "code",
   "execution_count": null,
   "metadata": {},
   "outputs": [],
   "source": [
    "# 01_11_LGHV_FeatureEngineering.ipynb 까지 끝낸 데이터를 삽입\n",
    "\n",
    "datapath_df = '/content/drive/MyDrive/Colab Notebooks/data/full_data/TPS_cancel_preprocessing3.csv'\n",
    "df = pd.read_csv(datapath_df)"
   ]
  },
  {
   "cell_type": "markdown",
   "metadata": {},
   "source": [
    "#### 1️. AutoGluon 설치"
   ]
  },
  {
   "cell_type": "code",
   "execution_count": null,
   "metadata": {},
   "outputs": [],
   "source": [
    "!pip install autogluon"
   ]
  },
  {
   "cell_type": "markdown",
   "metadata": {},
   "source": [
    "#### 2. 2,3,4,5,6,7월 train / 9월 test\n",
    "Autogluon은 validation 작업을 스스로 혼자함."
   ]
  },
  {
   "cell_type": "code",
   "execution_count": null,
   "metadata": {},
   "outputs": [],
   "source": [
    "train = df[df['p_mt'].isin([2,3,4,5,6,7])]\n",
    "test = df[df['p_mt'] == 9]"
   ]
  },
  {
   "cell_type": "code",
   "execution_count": null,
   "metadata": {},
   "outputs": [],
   "source": [
    "train['p_mt'].describe()"
   ]
  },
  {
   "cell_type": "code",
   "execution_count": null,
   "metadata": {},
   "outputs": [],
   "source": [
    "display(train, test)"
   ]
  },
  {
   "cell_type": "markdown",
   "metadata": {},
   "source": [
    "#### 3. train 데이터 불균형 처리 - 랜덤 언더 샘플링 진행\n",
    "- 언더 샘플링을 5:5로 맞추지않고, 실무에서도 해지를 하는 고객 비율이 더 적기 때문에 6(N):4(Y)의 비율로 맞추고 진행해보겠음."
   ]
  },
  {
   "cell_type": "code",
   "execution_count": null,
   "metadata": {},
   "outputs": [],
   "source": [
    "train['churn'].value_counts(normalize=True) * 100"
   ]
  },
  {
   "attachments": {
    "image.png": {
     "image/png": "[encoded data removed]"
    }
   },
   "cell_type": "markdown",
   "metadata": {},
   "source": [
    "![image.png](attachment:image.png)"
   ]
  },
  {
   "cell_type": "code",
   "execution_count": null,
   "metadata": {},
   "outputs": [],
   "source": [
    "from sklearn.utils import resample\n",
    "\n",
    "# 데이터 분리\n",
    "df_Y = train[train['churn'] == 'Y']\n",
    "df_N = train[train['churn'] == 'N']\n",
    "\n",
    "# Y의 데이터 개수와 비율에 따른 N의 샘플 개수 계산\n",
    "y_count = len(df_Y)  # Y 데이터 개수\n",
    "n_count_target = int((6 / 4) * y_count)  # 7:3 비율로 N 데이터 개수 계산\n",
    "\n",
    "# N 데이터를 랜덤 샘플링\n",
    "df_N_downsampled = resample(\n",
    "    df_N,\n",
    "    replace=False,  # 복원 샘플링 하지 않음\n",
    "    n_samples=n_count_target,  # 목표 샘플 개수\n",
    "    random_state=42  # 재현성을 위한 시드\n",
    ")\n",
    "\n",
    "# 언더샘플링된 데이터 결합\n",
    "train_balanced = pd.concat([df_Y, df_N_downsampled])\n",
    "\n",
    "# 결과 섞기 (선택 사항)\n",
    "train_balanced = train_balanced.sample(frac=1, random_state=42).reset_index(drop=True)\n",
    "\n",
    "# 결과 확인\n",
    "print(\"최종 데이터 분포:\")\n",
    "print(train_balanced['churn'].value_counts())"
   ]
  },
  {
   "attachments": {
    "image.png": {
     "image/png": "[encoded data removed]"
    }
   },
   "cell_type": "markdown",
   "metadata": {},
   "source": [
    "![image.png](attachment:image.png)"
   ]
  },
  {
   "cell_type": "code",
   "execution_count": null,
   "metadata": {},
   "outputs": [],
   "source": [
    "train = train_balanced"
   ]
  },
  {
   "cell_type": "markdown",
   "metadata": {},
   "source": [
    "#### 4. 컬럼 drop 및 레이블 인코딩 진행"
   ]
  },
  {
   "cell_type": "code",
   "execution_count": null,
   "metadata": {},
   "outputs": [],
   "source": [
    "drop_cols = ['sha2_hash','p_mt','AGMT_END_YMD']\n",
    "\n",
    "train = train.drop(drop_cols, axis=1)\n",
    "test = test.drop(drop_cols, axis=1)"
   ]
  },
  {
   "cell_type": "code",
   "execution_count": null,
   "metadata": {},
   "outputs": [],
   "source": [
    "display(train.shape)\n",
    "display(test.shape)"
   ]
  },
  {
   "cell_type": "code",
   "execution_count": null,
   "metadata": {},
   "outputs": [],
   "source": [
    "from sklearn.preprocessing import LabelEncoder\n",
    "\n",
    "# 데이터 병합\n",
    "combined = pd.concat([train, test], keys=['train', 'test'])\n",
    "\n",
    "# 레이블 인코딩\n",
    "label_encoders = {}\n",
    "for column in combined.select_dtypes(include=['object']).columns:\n",
    "    le = LabelEncoder()\n",
    "    combined[column] = le.fit_transform(combined[column])\n",
    "    label_encoders[column] = le\n",
    "\n",
    "# 데이터 분리\n",
    "train = combined.xs('train')\n",
    "test = combined.xs('test')"
   ]
  },
  {
   "cell_type": "code",
   "execution_count": null,
   "metadata": {},
   "outputs": [],
   "source": [
    "display(train, test)"
   ]
  },
  {
   "cell_type": "markdown",
   "metadata": {},
   "source": [
    "### ⭐ 5. AutoGluon 진행"
   ]
  },
  {
   "cell_type": "code",
   "execution_count": null,
   "metadata": {},
   "outputs": [],
   "source": [
    "from autogluon.tabular import TabularPredictor\n",
    "\n",
    "# 타겟 컬럼 지정\n",
    "target_column = 'churn'\n",
    "\n",
    "# AutoGluon 모델 학습\n",
    "predictor = TabularPredictor(\n",
    "    label=target_column,       # 예측할 타겟 컬럼\n",
    "    eval_metric='roc_auc'      # 불균형 데이터에 적합한 평가 지표\n",
    ").fit(\n",
    "    train_data=train,          # 학습 데이터\n",
    "    presets='best_quality',    # 고품질 설정\n",
    "    time_limit=14400           # 학습 시간 제한 (4시간)\n",
    ")\n",
    "\n",
    "# 리더보드 확인\n",
    "print(\"Leaderboard:\")\n",
    "print(predictor.leaderboard(extra_info=True))\n",
    "\n",
    "# 테스트 데이터 평가\n",
    "test_performance = predictor.evaluate(test)\n",
    "print(\"Test Performance:\", test_performance)\n",
    "\n",
    "# 특성 중요도 확인\n",
    "feature_importance = predictor.feature_importance(train)\n",
    "print(\"Feature Importance:\")\n",
    "print(feature_importance.head(10))"
   ]
  },
  {
   "attachments": {
    "image.png": {
     "image/png": "[encoded data removed]"
    }
   },
   "cell_type": "markdown",
   "metadata": {},
   "source": [
    "![image.png](attachment:image.png)"
   ]
  },
  {
   "cell_type": "markdown",
   "metadata": {},
   "source": [
    "#### 🚀 AutoGluon Leaderboard\n",
    "\n",
    "| Rank | Model                            | Score (ROC AUC) | Prediction Time (s) |\n",
    "|------|----------------------------------|----------------|---------------------|\n",
    "| 1    | WeightedEnsemble_L3         | 0.84       | 527.79              |\n",
    "| 2    | NeuralNetTorch_r79_BAG_L2       | 0.84           | 451.30              |\n",
    "| 3    | NeuralNetFastAI_BAG_L2          | 0.84           | 453.06              |\n",
    "| 4    | LightGBM_r131_BAG_L2            | 0.84           | 475.36              |\n",
    "| 5    | CatBoost_BAG_L2                 | 0.84           | 450.18              |\n",
    "| 6    | CatBoost_r177_BAG_L2            | 0.84           | 450.19              |\n",
    "| 7    | LightGBM_BAG_L2                 | 0.84           | 452.10              |\n",
    "| 8    | CatBoost_r9_BAG_L2              | 0.84           | 450.65              |\n",
    "| 9    | CatBoost_r137_BAG_L2            | 0.84           | 450.19              |\n",
    "| 10   | LightGBMLarge_BAG_L2            | 0.84           | 454.79              |\n",
    "| 11   | XGBoost_BAG_L2                  | 0.84           | 451.60              |\n",
    "| 12   | LightGBMXT_BAG_L2               | 0.84           | 453.65              |\n",
    "| 13   | XGBoost_r33_BAG_L2              | 0.84           | 463.92              |\n",
    "| 14   | LightGBM_r96_BAG_L2             | 0.84           | 485.38              |\n",
    "| 15   | NeuralNetTorch_r22_BAG_L2       | 0.84           | 452.06              |\n",
    "| 16   | NeuralNetTorch_BAG_L2           | 0.84           | 451.29              |\n",
    "| 17   | NeuralNetFastAI_r191_BAG_L2     | 0.84           | 455.02              |\n",
    "| 18   | WeightedEnsemble_L2         | 0.84       | 154.64              |\n",
    "| 19   | NeuralNetFastAI_r102_BAG_L2     | 0.84           | 451.23              |\n",
    "| 20   | ExtraTreesGini_BAG_L2           | 0.84           | 462.97              |\n",
    "| 21   | ExtraTreesEntr_BAG_L2           | 0.84           | 463.37              |\n",
    "| 22   | LightGBM_r131_BAG_L1            | 0.84           | 51.13               |\n",
    "| 23   | XGBoost_r33_BAG_L1              | 0.84           | 29.45               |\n",
    "| 24   | LightGBM_r130_BAG_L1            | 0.84           | 5.94                |\n",
    "| 25   | CatBoost_r13_BAG_L1             | 0.84           | 0.27                |\n",
    "| 26   | CatBoost_r9_BAG_L1              | 0.84           | 0.78                |\n",
    "| 27   | LightGBMLarge_BAG_L1            | 0.84           | 8.75                |\n",
    "| 28   | RandomForestEntr_BAG_L2         | 0.84           | 464.94              |\n",
    "| 29   | ExtraTrees_r42_BAG_L2           | 0.84           | 464.60              |\n",
    "| 30   | CatBoost_BAG_L1             | 0.84       | 0.15            |\n",
    "| 31   | CatBoost_r177_BAG_L1            | 0.84           | 0.13                |\n",
    "| 32   | RandomForestGini_BAG_L2         | 0.84           | 464.50              |\n",
    "| 33   | LightGBM_BAG_L1                 | 0.84           | 8.91                |\n",
    "| 34   | XGBoost_r89_BAG_L1              | 0.84           | 4.36                |\n",
    "| 35   | CatBoost_r137_BAG_L1            | 0.84           | 0.23                |\n",
    "| 36   | XGBoost_BAG_L1                  | 0.84           | 2.89                |\n",
    "| 37   | CatBoost_r50_BAG_L1             | 0.84           | 0.75                |\n",
    "| 38   | RandomForestEntr_BAG_L1         | 0.83           | 10.70               |\n",
    "| 39   | RandomForestGini_BAG_L1         | 0.83           | 10.34               |\n",
    "| 40   | LightGBM_r96_BAG_L1             | 0.83           | 126.55              |\n",
    "| 41   | LightGBMXT_BAG_L1               | 0.83           | 15.37               |"
   ]
  },
  {
   "cell_type": "markdown",
   "metadata": {},
   "source": [
    "#### 🚀 Feature Importance\n",
    "\n",
    "| Feature                 | Importance | Std Dev | p-value | n  | p99_high | p99_low |\n",
    "|-------------------------|------------|---------|---------|----|----------|---------|\n",
    "| MONTHS_REMAINING       | 0.17       | 0.00    | 0.00    | 5  | 0.18     | 0.16    |\n",
    "| TOTAL_USED_DAYS        | 0.14       | 0.00    | 0.00    | 5  | 0.15     | 0.14    |\n",
    "| CH_HH_AVG_MONTH1       | 0.06       | 0.00    | 0.00    | 5  | 0.07     | 0.06    |\n",
    "| INHOME_RATE            | 0.05       | 0.00    | 0.00    | 5  | 0.05     | 0.05    |\n",
    "| SCRB_PATH_NM_GRP       | 0.05       | 0.00    | 0.00    | 5  | 0.05     | 0.05    |\n",
    "| CH_LAST_DAYS_BF_GRP    | 0.05       | 0.00    | 0.00    | 5  | 0.05     | 0.05    |\n",
    "| CH_25_RATIO_1MONTH     | 0.04       | 0.00    | 0.00    | 5  | 0.04     | 0.04    |\n",
    "| CH_FAV_RNK1           | 0.04       | 0.00    | 0.00    | 5  | 0.04     | 0.04    |\n",
    "| AGE_GRP10             | 0.04       | 0.00    | 0.00    | 5  | 0.04     | 0.04    |\n",
    "| AGMT_KIND_NM          | 0.03       | 0.00    | 0.00    | 5  | 0.04     | 0.03    |\n"
   ]
  },
  {
   "cell_type": "markdown",
   "metadata": {},
   "source": [
    "#### 6. 모델 저장"
   ]
  },
  {
   "cell_type": "code",
   "execution_count": null,
   "metadata": {},
   "outputs": [],
   "source": [
    "import os\n",
    "from google.colab import drive\n",
    "\n",
    "# 저장 경로 설정\n",
    "save_path = '/content/drive/MyDrive/Colab Notebooks/ag-final-model'\n",
    "\n",
    "# 모델 저장\n",
    "print(\"Saving model to Google Drive...\")\n",
    "predictor.save(save_path)  # 학습된 모델 저장\n",
    "print(f\"Model saved to: {save_path}\")\n",
    "\n",
    "# Saving model to Google Drive...\n",
    "# Model saved to: /content/drive/MyDrive/Colab Notebooks/ag-final-model"
   ]
  },
  {
   "cell_type": "markdown",
   "metadata": {},
   "source": [
    "#### 7. 모델 성능 평가"
   ]
  },
  {
   "cell_type": "code",
   "execution_count": null,
   "metadata": {},
   "outputs": [],
   "source": [
    "from autogluon.tabular import TabularPredictor\n",
    "\n",
    "# 모델 경로 설정\n",
    "model_path = '/content/drive/MyDrive/Colab Notebooks/AutogluonModels/ag-20250114_082027/'\n",
    "\n",
    "# 모델 불러오기\n",
    "predictor = TabularPredictor.load(model_path)\n",
    "print(\"Model loaded successfully!\")\n",
    "\n",
    "# 모델 정보를 확인하려면\n",
    "print(predictor.leaderboard())"
   ]
  },
  {
   "attachments": {
    "image.png": {
     "image/png": "[encoded data removed]"
    }
   },
   "cell_type": "markdown",
   "metadata": {},
   "source": [
    "![image.png](attachment:image.png)"
   ]
  },
  {
   "cell_type": "code",
   "execution_count": null,
   "metadata": {},
   "outputs": [],
   "source": [
    "# Best 모델 이름 확인\n",
    "\n",
    "best_model_name = predictor.model_best\n",
    "print(f\"Best Model: {best_model_name}\")\n",
    "\n",
    "\n",
    "# Best Model: WeightedEnsemble_L3"
   ]
  },
  {
   "cell_type": "code",
   "execution_count": null,
   "metadata": {},
   "outputs": [],
   "source": [
    "# WeightedEnsemble_L3의 구성 모델들 확인\n",
    "ensemble_info = predictor.info()\n",
    "ensemble_details = ensemble_info['model_info'][best_model_name]\n",
    "print(f\"{best_model_name} Details:\", ensemble_details)\n",
    "\n",
    "# WeightedEnsemble_L3 Details: {'name': 'WeightedEnsemble_L3', 'model_type': 'WeightedEnsembleModel', 'problem_type': 'binary', 'eval_metric': 'roc_auc', 'stopping_metric': 'roc_auc', 'fit_time': 49.40677762031555, 'num_classes': 2,......"
   ]
  },
  {
   "cell_type": "code",
   "execution_count": null,
   "metadata": {},
   "outputs": [],
   "source": [
    "# 데이터 불러오기\n",
    "\n",
    "datapath_df = '/content/drive/MyDrive/Colab Notebooks/data/full_data/TPS_cancel_preprocessing3.csv'\n",
    "df = pd.read_csv(datapath_df)"
   ]
  },
  {
   "cell_type": "code",
   "execution_count": null,
   "metadata": {},
   "outputs": [],
   "source": [
    "test_data = df[df['p_mt'] == 9]"
   ]
  },
  {
   "cell_type": "code",
   "execution_count": null,
   "metadata": {},
   "outputs": [],
   "source": [
    "drop_cols = ['sha2_hash','p_mt','AGMT_END_YMD']\n",
    "\n",
    "test_data = test_data.drop(drop_cols, axis=1)"
   ]
  },
  {
   "cell_type": "code",
   "execution_count": null,
   "metadata": {},
   "outputs": [],
   "source": [
    "# 시간이 너무 오래 걸려서 30만개만 추출해서 검사해보자\n",
    "print(test_data.shape)\n",
    "print(test_data['churn'].value_counts())\n",
    "\n",
    "# N과 Y로 데이터 분리\n",
    "n_data = test_data[test_data['churn'] == 'N']\n",
    "y_data = test_data[test_data['churn'] == 'Y']\n",
    "\n",
    "# N 데이터를 30만 개로 샘플링\n",
    "n_sampled = n_data.sample(n=300000, random_state=42)\n",
    "\n",
    "# N과 Y 데이터를 합치기\n",
    "balanced_test_data = pd.concat([n_sampled, y_data])\n",
    "\n",
    "# 데이터 섞기 (셔플링)\n",
    "balanced_test_data = balanced_test_data.sample(frac=1, random_state=42).reset_index(drop=True)\n",
    "\n",
    "print(\"Balanced test_data class distribution:\")\n",
    "print(balanced_test_data['churn'].value_counts())\n",
    "\n",
    "test_data = balanced_test_data\n",
    "\n",
    "\n",
    "# (313229, 36)\n",
    "# churn\n",
    "# N    300000\n",
    "# Y     13229\n",
    "# Name: count, dtype: int64\n",
    "# Balanced test_data class distribution:\n",
    "# churn\n",
    "# N    300000\n",
    "# Y     13229\n",
    "# Name: count, dtype: int64"
   ]
  },
  {
   "cell_type": "code",
   "execution_count": null,
   "metadata": {},
   "outputs": [],
   "source": [
    "from sklearn.preprocessing import LabelEncoder\n",
    "\n",
    "# 레이블 인코더 생성\n",
    "label_encoders = {}\n",
    "\n",
    "# 범주형 컬럼 자동 탐지 및 레이블 인코딩 수행\n",
    "for column in test_data.select_dtypes(include=['object', 'category']).columns:\n",
    "    le = LabelEncoder()\n",
    "    test_data[column] = le.fit_transform(test_data[column])\n",
    "    label_encoders[column] = le  # 각 컬럼의 레이블 인코더 저장"
   ]
  },
  {
   "cell_type": "code",
   "execution_count": null,
   "metadata": {},
   "outputs": [],
   "source": [
    "from sklearn.metrics import accuracy_score, classification_report, confusion_matrix, roc_auc_score, roc_curve, ConfusionMatrixDisplay\n",
    "import matplotlib.pyplot as plt\n",
    "\n",
    "# -----------------------------------------------------------\n",
    "# Best Model 이름 가져오기\n",
    "# -----------------------------------------------------------\n",
    "best_model_name = predictor.model_best\n",
    "print(f\"Using Best Model: {best_model_name}\")\n",
    "\n",
    "# -----------------------------------------------------------\n",
    "# 테스트 데이터 평가 (Best Model)\n",
    "# -----------------------------------------------------------\n",
    "\n",
    "# 테스트 데이터 예측\n",
    "test_predictions = predictor.predict(test_data, model=best_model_name)\n",
    "\n",
    "# 테스트 데이터의 실제 값 (타겟 컬럼)\n",
    "y_test = test_data['churn']  # 타겟 컬럼 이름을 사용\n",
    "X_test = test_data.drop(columns=['churn'])  # 입력 피처\n",
    "\n",
    "# 정확도 확인\n",
    "test_accuracy = accuracy_score(y_test, test_predictions)\n",
    "print(f\"Test Accuracy (Best Model): {test_accuracy:.2f}\")\n",
    "\n",
    "# Classification Report\n",
    "print(\"\\nClassification Report (Best Model):\")\n",
    "print(classification_report(y_test, test_predictions))\n",
    "\n",
    "# Confusion Matrix\n",
    "print(\"\\nConfusion Matrix (Best Model):\")\n",
    "cm_test = confusion_matrix(y_test, test_predictions)\n",
    "disp_test = ConfusionMatrixDisplay(confusion_matrix=cm_test, display_labels=[0, 1])  # 0: N, 1: Y\n",
    "disp_test.plot(cmap=\"Blues\")\n",
    "plt.title(\"Test Confusion Matrix (Best Model)\")\n",
    "plt.show()\n",
    "\n",
    "# -----------------------------------------------------------\n",
    "# AUC-ROC 계산 및 시각화 (Best Model)\n",
    "# -----------------------------------------------------------\n",
    "\n",
    "# 클래스 1에 대한 예측 확률 (churn = Y의 확률)\n",
    "test_probabilities = predictor.predict_proba(test_data, model=best_model_name)[1]  # 클래스 1 확률만 추출\n",
    "\n",
    "# AUC-ROC 계산\n",
    "test_auc = roc_auc_score(y_test, test_probabilities)\n",
    "print(f\"Test AUC-ROC (Best Model): {test_auc:.2f}\")\n",
    "\n",
    "# ROC Curve 계산\n",
    "fpr_test, tpr_test, thresholds_test = roc_curve(y_test, test_probabilities)\n",
    "\n",
    "# ROC Curve 시각화\n",
    "plt.figure()\n",
    "plt.plot(fpr_test, tpr_test, label=f\"Test ROC Curve (AUC = {test_auc:.2f})\")\n",
    "plt.plot([0, 1], [0, 1], linestyle='--', color='gray', label=\"Random Guess\")\n",
    "plt.xlabel(\"False Positive Rate\")\n",
    "plt.ylabel(\"True Positive Rate\")\n",
    "plt.title(\"Test ROC Curve (Best Model)\")\n",
    "plt.legend()\n",
    "plt.show()"
   ]
  },
  {
   "attachments": {
    "image.png": {
     "image/png": "[encoded data removed]"
    }
   },
   "cell_type": "markdown",
   "metadata": {},
   "source": [
    "![image.png](attachment:image.png)"
   ]
  },
  {
   "cell_type": "markdown",
   "metadata": {},
   "source": [
    "Autogluon에서 모델이 나왔지만, accuracy는 상당히 높지만 실제 1인데 모델이 0이라고 생각하는 경우의 수가 너무 많기 때문에 LightGBM모델을 쓰는 편이 좋을듯하다."
   ]
  }
 ],
 "metadata": {
  "language_info": {
   "name": "python"
  }
 },
 "nbformat": 4,
 "nbformat_minor": 2
}
